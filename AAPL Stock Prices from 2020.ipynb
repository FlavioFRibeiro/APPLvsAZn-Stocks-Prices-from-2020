{
 "cells": [
  {
   "cell_type": "markdown",
   "id": "d86717f5",
   "metadata": {},
   "source": [
    " ## Installing and Loading Packages"
   ]
  },
  {
   "cell_type": "code",
   "execution_count": 1,
   "id": "53cc9a5f",
   "metadata": {},
   "outputs": [
    {
     "name": "stdout",
     "output_type": "stream",
     "text": [
      "Python Version used in this Jupiter Nootebook: 3.9.13\n"
     ]
    }
   ],
   "source": [
    "# Python version used in this project\n",
    "from platform import python_version\n",
    "print('Python Version used in this Jupiter Nootebook:', python_version())"
   ]
  },
  {
   "cell_type": "code",
   "execution_count": null,
   "id": "13e3aa38",
   "metadata": {},
   "outputs": [],
   "source": [
    "! pip install yfinance --upgrade --no-cache-dir"
   ]
  },
  {
   "cell_type": "code",
   "execution_count": null,
   "id": "65413baa",
   "metadata": {},
   "outputs": [],
   "source": [
    "! pip install pandas-datareader"
   ]
  },
  {
   "cell_type": "code",
   "execution_count": null,
   "id": "0fef1be6",
   "metadata": {},
   "outputs": [],
   "source": [
    "! pip install xlwt"
   ]
  },
  {
   "cell_type": "code",
   "execution_count": 2,
   "id": "165b3e5d",
   "metadata": {},
   "outputs": [],
   "source": [
    "#Imports\n",
    "import pandas as pd\n",
    "import numpy as np\n",
    "import matplotlib.pyplot as plt\n",
    "import pandas_datareader\n",
    "import sqlite3\n",
    "import yfinance\n",
    "import warnings\n",
    "warnings.filterwarnings('ignore')"
   ]
  },
  {
   "cell_type": "code",
   "execution_count": 3,
   "id": "73117b5e",
   "metadata": {},
   "outputs": [
    {
     "name": "stdout",
     "output_type": "stream",
     "text": [
      "Author: Flavio F Ribeiro\n",
      "\n",
      "pandas_datareader: 0.10.0\n",
      "numpy            : 1.21.5\n",
      "pandas           : 1.4.4\n",
      "sqlite3          : 2.6.0\n",
      "yfinance         : 0.2.11\n",
      "matplotlib       : 3.5.2\n",
      "\n"
     ]
    }
   ],
   "source": [
    "# Packages versions used in this project\n",
    "%reload_ext watermark\n",
    "%watermark -a \"Flavio F Ribeiro\" --iversions"
   ]
  },
  {
   "cell_type": "code",
   "execution_count": null,
   "id": "13ae20fe",
   "metadata": {},
   "outputs": [],
   "source": [
    "#Creating the variable for the company stock data"
   ]
  },
  {
   "cell_type": "code",
   "execution_count": 4,
   "id": "41cbc48d",
   "metadata": {},
   "outputs": [],
   "source": [
    "AAPL = \"AAPL\""
   ]
  },
  {
   "cell_type": "code",
   "execution_count": 5,
   "id": "fc1cdacc",
   "metadata": {},
   "outputs": [
    {
     "name": "stdout",
     "output_type": "stream",
     "text": [
      "[*********************100%***********************]  1 of 1 completed\n"
     ]
    }
   ],
   "source": [
    "AAPL = yfinance.download(AAPL)"
   ]
  },
  {
   "cell_type": "markdown",
   "id": "bce3a352",
   "metadata": {},
   "source": [
    "## Exploratorion and Data Integrity Check"
   ]
  },
  {
   "cell_type": "code",
   "execution_count": 6,
   "id": "b80d40bc",
   "metadata": {},
   "outputs": [
    {
     "data": {
      "text/plain": [
       "(10633, 6)"
      ]
     },
     "execution_count": 6,
     "metadata": {},
     "output_type": "execute_result"
    }
   ],
   "source": [
    "AAPL.shape"
   ]
  },
  {
   "cell_type": "code",
   "execution_count": 7,
   "id": "c0fb2556",
   "metadata": {},
   "outputs": [
    {
     "data": {
      "text/html": [
       "<div>\n",
       "<style scoped>\n",
       "    .dataframe tbody tr th:only-of-type {\n",
       "        vertical-align: middle;\n",
       "    }\n",
       "\n",
       "    .dataframe tbody tr th {\n",
       "        vertical-align: top;\n",
       "    }\n",
       "\n",
       "    .dataframe thead th {\n",
       "        text-align: right;\n",
       "    }\n",
       "</style>\n",
       "<table border=\"1\" class=\"dataframe\">\n",
       "  <thead>\n",
       "    <tr style=\"text-align: right;\">\n",
       "      <th></th>\n",
       "      <th>Open</th>\n",
       "      <th>High</th>\n",
       "      <th>Low</th>\n",
       "      <th>Close</th>\n",
       "      <th>Adj Close</th>\n",
       "      <th>Volume</th>\n",
       "    </tr>\n",
       "    <tr>\n",
       "      <th>Date</th>\n",
       "      <th></th>\n",
       "      <th></th>\n",
       "      <th></th>\n",
       "      <th></th>\n",
       "      <th></th>\n",
       "      <th></th>\n",
       "    </tr>\n",
       "  </thead>\n",
       "  <tbody>\n",
       "    <tr>\n",
       "      <th>1980-12-12</th>\n",
       "      <td>0.128348</td>\n",
       "      <td>0.128906</td>\n",
       "      <td>0.128348</td>\n",
       "      <td>0.128348</td>\n",
       "      <td>0.099722</td>\n",
       "      <td>469033600</td>\n",
       "    </tr>\n",
       "    <tr>\n",
       "      <th>1980-12-15</th>\n",
       "      <td>0.122210</td>\n",
       "      <td>0.122210</td>\n",
       "      <td>0.121652</td>\n",
       "      <td>0.121652</td>\n",
       "      <td>0.094519</td>\n",
       "      <td>175884800</td>\n",
       "    </tr>\n",
       "    <tr>\n",
       "      <th>1980-12-16</th>\n",
       "      <td>0.113281</td>\n",
       "      <td>0.113281</td>\n",
       "      <td>0.112723</td>\n",
       "      <td>0.112723</td>\n",
       "      <td>0.087582</td>\n",
       "      <td>105728000</td>\n",
       "    </tr>\n",
       "    <tr>\n",
       "      <th>1980-12-17</th>\n",
       "      <td>0.115513</td>\n",
       "      <td>0.116071</td>\n",
       "      <td>0.115513</td>\n",
       "      <td>0.115513</td>\n",
       "      <td>0.089749</td>\n",
       "      <td>86441600</td>\n",
       "    </tr>\n",
       "    <tr>\n",
       "      <th>1980-12-18</th>\n",
       "      <td>0.118862</td>\n",
       "      <td>0.119420</td>\n",
       "      <td>0.118862</td>\n",
       "      <td>0.118862</td>\n",
       "      <td>0.092351</td>\n",
       "      <td>73449600</td>\n",
       "    </tr>\n",
       "  </tbody>\n",
       "</table>\n",
       "</div>"
      ],
      "text/plain": [
       "                Open      High       Low     Close  Adj Close     Volume\n",
       "Date                                                                    \n",
       "1980-12-12  0.128348  0.128906  0.128348  0.128348   0.099722  469033600\n",
       "1980-12-15  0.122210  0.122210  0.121652  0.121652   0.094519  175884800\n",
       "1980-12-16  0.113281  0.113281  0.112723  0.112723   0.087582  105728000\n",
       "1980-12-17  0.115513  0.116071  0.115513  0.115513   0.089749   86441600\n",
       "1980-12-18  0.118862  0.119420  0.118862  0.118862   0.092351   73449600"
      ]
     },
     "execution_count": 7,
     "metadata": {},
     "output_type": "execute_result"
    }
   ],
   "source": [
    "AAPL.head()"
   ]
  },
  {
   "cell_type": "code",
   "execution_count": 8,
   "id": "53d9e75e",
   "metadata": {},
   "outputs": [
    {
     "data": {
      "text/html": [
       "<div>\n",
       "<style scoped>\n",
       "    .dataframe tbody tr th:only-of-type {\n",
       "        vertical-align: middle;\n",
       "    }\n",
       "\n",
       "    .dataframe tbody tr th {\n",
       "        vertical-align: top;\n",
       "    }\n",
       "\n",
       "    .dataframe thead th {\n",
       "        text-align: right;\n",
       "    }\n",
       "</style>\n",
       "<table border=\"1\" class=\"dataframe\">\n",
       "  <thead>\n",
       "    <tr style=\"text-align: right;\">\n",
       "      <th></th>\n",
       "      <th>Open</th>\n",
       "      <th>High</th>\n",
       "      <th>Low</th>\n",
       "      <th>Close</th>\n",
       "      <th>Adj Close</th>\n",
       "      <th>Volume</th>\n",
       "    </tr>\n",
       "  </thead>\n",
       "  <tbody>\n",
       "    <tr>\n",
       "      <th>count</th>\n",
       "      <td>10633.000000</td>\n",
       "      <td>10633.000000</td>\n",
       "      <td>10633.000000</td>\n",
       "      <td>10633.000000</td>\n",
       "      <td>10633.000000</td>\n",
       "      <td>1.063300e+04</td>\n",
       "    </tr>\n",
       "    <tr>\n",
       "      <th>mean</th>\n",
       "      <td>16.818628</td>\n",
       "      <td>17.011740</td>\n",
       "      <td>16.629275</td>\n",
       "      <td>16.828069</td>\n",
       "      <td>16.135021</td>\n",
       "      <td>3.269496e+08</td>\n",
       "    </tr>\n",
       "    <tr>\n",
       "      <th>std</th>\n",
       "      <td>35.692780</td>\n",
       "      <td>36.130836</td>\n",
       "      <td>35.272692</td>\n",
       "      <td>35.720691</td>\n",
       "      <td>35.353404</td>\n",
       "      <td>3.376453e+08</td>\n",
       "    </tr>\n",
       "    <tr>\n",
       "      <th>min</th>\n",
       "      <td>0.049665</td>\n",
       "      <td>0.049665</td>\n",
       "      <td>0.049107</td>\n",
       "      <td>0.049107</td>\n",
       "      <td>0.038154</td>\n",
       "      <td>0.000000e+00</td>\n",
       "    </tr>\n",
       "    <tr>\n",
       "      <th>25%</th>\n",
       "      <td>0.287946</td>\n",
       "      <td>0.295759</td>\n",
       "      <td>0.281250</td>\n",
       "      <td>0.287946</td>\n",
       "      <td>0.237944</td>\n",
       "      <td>1.209600e+08</td>\n",
       "    </tr>\n",
       "    <tr>\n",
       "      <th>50%</th>\n",
       "      <td>0.488839</td>\n",
       "      <td>0.495536</td>\n",
       "      <td>0.480357</td>\n",
       "      <td>0.487679</td>\n",
       "      <td>0.404129</td>\n",
       "      <td>2.142336e+08</td>\n",
       "    </tr>\n",
       "    <tr>\n",
       "      <th>75%</th>\n",
       "      <td>16.357500</td>\n",
       "      <td>16.486071</td>\n",
       "      <td>16.203571</td>\n",
       "      <td>16.315357</td>\n",
       "      <td>14.103334</td>\n",
       "      <td>4.064760e+08</td>\n",
       "    </tr>\n",
       "    <tr>\n",
       "      <th>max</th>\n",
       "      <td>182.630005</td>\n",
       "      <td>182.940002</td>\n",
       "      <td>179.119995</td>\n",
       "      <td>182.009995</td>\n",
       "      <td>180.683868</td>\n",
       "      <td>7.421641e+09</td>\n",
       "    </tr>\n",
       "  </tbody>\n",
       "</table>\n",
       "</div>"
      ],
      "text/plain": [
       "               Open          High           Low         Close     Adj Close  \\\n",
       "count  10633.000000  10633.000000  10633.000000  10633.000000  10633.000000   \n",
       "mean      16.818628     17.011740     16.629275     16.828069     16.135021   \n",
       "std       35.692780     36.130836     35.272692     35.720691     35.353404   \n",
       "min        0.049665      0.049665      0.049107      0.049107      0.038154   \n",
       "25%        0.287946      0.295759      0.281250      0.287946      0.237944   \n",
       "50%        0.488839      0.495536      0.480357      0.487679      0.404129   \n",
       "75%       16.357500     16.486071     16.203571     16.315357     14.103334   \n",
       "max      182.630005    182.940002    179.119995    182.009995    180.683868   \n",
       "\n",
       "             Volume  \n",
       "count  1.063300e+04  \n",
       "mean   3.269496e+08  \n",
       "std    3.376453e+08  \n",
       "min    0.000000e+00  \n",
       "25%    1.209600e+08  \n",
       "50%    2.142336e+08  \n",
       "75%    4.064760e+08  \n",
       "max    7.421641e+09  "
      ]
     },
     "execution_count": 8,
     "metadata": {},
     "output_type": "execute_result"
    }
   ],
   "source": [
    "AAPL.describe()"
   ]
  },
  {
   "cell_type": "code",
   "execution_count": 9,
   "id": "e6a0c511",
   "metadata": {},
   "outputs": [
    {
     "name": "stdout",
     "output_type": "stream",
     "text": [
      "<class 'pandas.core.frame.DataFrame'>\n",
      "DatetimeIndex: 10633 entries, 1980-12-12 to 2023-02-14\n",
      "Data columns (total 6 columns):\n",
      " #   Column     Non-Null Count  Dtype  \n",
      "---  ------     --------------  -----  \n",
      " 0   Open       10633 non-null  float64\n",
      " 1   High       10633 non-null  float64\n",
      " 2   Low        10633 non-null  float64\n",
      " 3   Close      10633 non-null  float64\n",
      " 4   Adj Close  10633 non-null  float64\n",
      " 5   Volume     10633 non-null  int64  \n",
      "dtypes: float64(5), int64(1)\n",
      "memory usage: 581.5 KB\n"
     ]
    }
   ],
   "source": [
    "AAPL.info()"
   ]
  },
  {
   "cell_type": "markdown",
   "id": "3e885f7b",
   "metadata": {},
   "source": [
    "## Using SQL"
   ]
  },
  {
   "cell_type": "code",
   "execution_count": 10,
   "id": "a3f11b0f",
   "metadata": {},
   "outputs": [],
   "source": [
    "conn = sqlite3.connect(\"StockPrices/AAPL.db\")\n",
    "c = conn.cursor()"
   ]
  },
  {
   "cell_type": "code",
   "execution_count": 12,
   "id": "d6454cb4",
   "metadata": {},
   "outputs": [
    {
     "data": {
      "text/plain": [
       "10633"
      ]
     },
     "execution_count": 12,
     "metadata": {},
     "output_type": "execute_result"
    }
   ],
   "source": [
    "AAPL.to_sql(\"AAPL\", conn, if_exists = 'replace')"
   ]
  },
  {
   "cell_type": "code",
   "execution_count": 13,
   "id": "22be5673",
   "metadata": {},
   "outputs": [],
   "source": [
    "# SQL query to DataFrame\n",
    "df = pd.read_sql_query(\"\"\" SELECT * FROM AAPL WHERE Date >= \"2020-01-01\" \"\"\", conn)"
   ]
  },
  {
   "cell_type": "code",
   "execution_count": 14,
   "id": "ef34de51",
   "metadata": {},
   "outputs": [
    {
     "data": {
      "text/html": [
       "<div>\n",
       "<style scoped>\n",
       "    .dataframe tbody tr th:only-of-type {\n",
       "        vertical-align: middle;\n",
       "    }\n",
       "\n",
       "    .dataframe tbody tr th {\n",
       "        vertical-align: top;\n",
       "    }\n",
       "\n",
       "    .dataframe thead th {\n",
       "        text-align: right;\n",
       "    }\n",
       "</style>\n",
       "<table border=\"1\" class=\"dataframe\">\n",
       "  <thead>\n",
       "    <tr style=\"text-align: right;\">\n",
       "      <th></th>\n",
       "      <th>Date</th>\n",
       "      <th>Open</th>\n",
       "      <th>High</th>\n",
       "      <th>Low</th>\n",
       "      <th>Close</th>\n",
       "      <th>Adj Close</th>\n",
       "      <th>Volume</th>\n",
       "    </tr>\n",
       "  </thead>\n",
       "  <tbody>\n",
       "    <tr>\n",
       "      <th>0</th>\n",
       "      <td>2020-01-02 00:00:00</td>\n",
       "      <td>74.059998</td>\n",
       "      <td>75.150002</td>\n",
       "      <td>73.797501</td>\n",
       "      <td>75.087502</td>\n",
       "      <td>73.449387</td>\n",
       "      <td>135480400</td>\n",
       "    </tr>\n",
       "    <tr>\n",
       "      <th>1</th>\n",
       "      <td>2020-01-03 00:00:00</td>\n",
       "      <td>74.287498</td>\n",
       "      <td>75.144997</td>\n",
       "      <td>74.125000</td>\n",
       "      <td>74.357498</td>\n",
       "      <td>72.735321</td>\n",
       "      <td>146322800</td>\n",
       "    </tr>\n",
       "    <tr>\n",
       "      <th>2</th>\n",
       "      <td>2020-01-06 00:00:00</td>\n",
       "      <td>73.447502</td>\n",
       "      <td>74.989998</td>\n",
       "      <td>73.187500</td>\n",
       "      <td>74.949997</td>\n",
       "      <td>73.314880</td>\n",
       "      <td>118387200</td>\n",
       "    </tr>\n",
       "    <tr>\n",
       "      <th>3</th>\n",
       "      <td>2020-01-07 00:00:00</td>\n",
       "      <td>74.959999</td>\n",
       "      <td>75.224998</td>\n",
       "      <td>74.370003</td>\n",
       "      <td>74.597504</td>\n",
       "      <td>72.970070</td>\n",
       "      <td>108872000</td>\n",
       "    </tr>\n",
       "    <tr>\n",
       "      <th>4</th>\n",
       "      <td>2020-01-08 00:00:00</td>\n",
       "      <td>74.290001</td>\n",
       "      <td>76.110001</td>\n",
       "      <td>74.290001</td>\n",
       "      <td>75.797501</td>\n",
       "      <td>74.143906</td>\n",
       "      <td>132079200</td>\n",
       "    </tr>\n",
       "    <tr>\n",
       "      <th>...</th>\n",
       "      <td>...</td>\n",
       "      <td>...</td>\n",
       "      <td>...</td>\n",
       "      <td>...</td>\n",
       "      <td>...</td>\n",
       "      <td>...</td>\n",
       "      <td>...</td>\n",
       "    </tr>\n",
       "    <tr>\n",
       "      <th>781</th>\n",
       "      <td>2023-02-08 00:00:00</td>\n",
       "      <td>153.880005</td>\n",
       "      <td>154.580002</td>\n",
       "      <td>151.169998</td>\n",
       "      <td>151.919998</td>\n",
       "      <td>151.688400</td>\n",
       "      <td>64120100</td>\n",
       "    </tr>\n",
       "    <tr>\n",
       "      <th>782</th>\n",
       "      <td>2023-02-09 00:00:00</td>\n",
       "      <td>153.779999</td>\n",
       "      <td>154.330002</td>\n",
       "      <td>150.419998</td>\n",
       "      <td>150.869995</td>\n",
       "      <td>150.639999</td>\n",
       "      <td>56007100</td>\n",
       "    </tr>\n",
       "    <tr>\n",
       "      <th>783</th>\n",
       "      <td>2023-02-10 00:00:00</td>\n",
       "      <td>149.460007</td>\n",
       "      <td>151.339996</td>\n",
       "      <td>149.220001</td>\n",
       "      <td>151.009995</td>\n",
       "      <td>151.009995</td>\n",
       "      <td>57409100</td>\n",
       "    </tr>\n",
       "    <tr>\n",
       "      <th>784</th>\n",
       "      <td>2023-02-13 00:00:00</td>\n",
       "      <td>150.949997</td>\n",
       "      <td>154.259995</td>\n",
       "      <td>150.919998</td>\n",
       "      <td>153.850006</td>\n",
       "      <td>153.850006</td>\n",
       "      <td>62123800</td>\n",
       "    </tr>\n",
       "    <tr>\n",
       "      <th>785</th>\n",
       "      <td>2023-02-14 00:00:00</td>\n",
       "      <td>152.119995</td>\n",
       "      <td>153.589996</td>\n",
       "      <td>151.000000</td>\n",
       "      <td>153.399994</td>\n",
       "      <td>153.399994</td>\n",
       "      <td>13001697</td>\n",
       "    </tr>\n",
       "  </tbody>\n",
       "</table>\n",
       "<p>786 rows × 7 columns</p>\n",
       "</div>"
      ],
      "text/plain": [
       "                    Date        Open        High         Low       Close  \\\n",
       "0    2020-01-02 00:00:00   74.059998   75.150002   73.797501   75.087502   \n",
       "1    2020-01-03 00:00:00   74.287498   75.144997   74.125000   74.357498   \n",
       "2    2020-01-06 00:00:00   73.447502   74.989998   73.187500   74.949997   \n",
       "3    2020-01-07 00:00:00   74.959999   75.224998   74.370003   74.597504   \n",
       "4    2020-01-08 00:00:00   74.290001   76.110001   74.290001   75.797501   \n",
       "..                   ...         ...         ...         ...         ...   \n",
       "781  2023-02-08 00:00:00  153.880005  154.580002  151.169998  151.919998   \n",
       "782  2023-02-09 00:00:00  153.779999  154.330002  150.419998  150.869995   \n",
       "783  2023-02-10 00:00:00  149.460007  151.339996  149.220001  151.009995   \n",
       "784  2023-02-13 00:00:00  150.949997  154.259995  150.919998  153.850006   \n",
       "785  2023-02-14 00:00:00  152.119995  153.589996  151.000000  153.399994   \n",
       "\n",
       "      Adj Close     Volume  \n",
       "0     73.449387  135480400  \n",
       "1     72.735321  146322800  \n",
       "2     73.314880  118387200  \n",
       "3     72.970070  108872000  \n",
       "4     74.143906  132079200  \n",
       "..          ...        ...  \n",
       "781  151.688400   64120100  \n",
       "782  150.639999   56007100  \n",
       "783  151.009995   57409100  \n",
       "784  153.850006   62123800  \n",
       "785  153.399994   13001697  \n",
       "\n",
       "[786 rows x 7 columns]"
      ]
     },
     "execution_count": 14,
     "metadata": {},
     "output_type": "execute_result"
    }
   ],
   "source": [
    "df"
   ]
  },
  {
   "cell_type": "code",
   "execution_count": 15,
   "id": "03805994",
   "metadata": {},
   "outputs": [],
   "source": [
    "#Saves as .xls in case we want to whole period\n",
    "df.to_excel(\"StockPrices/AAPLfrom020.xls\")"
   ]
  },
  {
   "cell_type": "code",
   "execution_count": 16,
   "id": "2fa49c66",
   "metadata": {},
   "outputs": [],
   "source": [
    "#loads in disc\n",
    "df = pd.read_excel(\"StockPrices/AAPLfrom020.xls\")"
   ]
  },
  {
   "cell_type": "code",
   "execution_count": 17,
   "id": "792d6493",
   "metadata": {},
   "outputs": [
    {
     "data": {
      "text/html": [
       "<div>\n",
       "<style scoped>\n",
       "    .dataframe tbody tr th:only-of-type {\n",
       "        vertical-align: middle;\n",
       "    }\n",
       "\n",
       "    .dataframe tbody tr th {\n",
       "        vertical-align: top;\n",
       "    }\n",
       "\n",
       "    .dataframe thead th {\n",
       "        text-align: right;\n",
       "    }\n",
       "</style>\n",
       "<table border=\"1\" class=\"dataframe\">\n",
       "  <thead>\n",
       "    <tr style=\"text-align: right;\">\n",
       "      <th></th>\n",
       "      <th>Unnamed: 0</th>\n",
       "      <th>Date</th>\n",
       "      <th>Open</th>\n",
       "      <th>High</th>\n",
       "      <th>Low</th>\n",
       "      <th>Close</th>\n",
       "      <th>Adj Close</th>\n",
       "      <th>Volume</th>\n",
       "    </tr>\n",
       "  </thead>\n",
       "  <tbody>\n",
       "    <tr>\n",
       "      <th>0</th>\n",
       "      <td>0</td>\n",
       "      <td>2020-01-02 00:00:00</td>\n",
       "      <td>74.059998</td>\n",
       "      <td>75.150002</td>\n",
       "      <td>73.797501</td>\n",
       "      <td>75.087502</td>\n",
       "      <td>73.449387</td>\n",
       "      <td>135480400</td>\n",
       "    </tr>\n",
       "    <tr>\n",
       "      <th>1</th>\n",
       "      <td>1</td>\n",
       "      <td>2020-01-03 00:00:00</td>\n",
       "      <td>74.287498</td>\n",
       "      <td>75.144997</td>\n",
       "      <td>74.125000</td>\n",
       "      <td>74.357498</td>\n",
       "      <td>72.735321</td>\n",
       "      <td>146322800</td>\n",
       "    </tr>\n",
       "    <tr>\n",
       "      <th>2</th>\n",
       "      <td>2</td>\n",
       "      <td>2020-01-06 00:00:00</td>\n",
       "      <td>73.447502</td>\n",
       "      <td>74.989998</td>\n",
       "      <td>73.187500</td>\n",
       "      <td>74.949997</td>\n",
       "      <td>73.314880</td>\n",
       "      <td>118387200</td>\n",
       "    </tr>\n",
       "    <tr>\n",
       "      <th>3</th>\n",
       "      <td>3</td>\n",
       "      <td>2020-01-07 00:00:00</td>\n",
       "      <td>74.959999</td>\n",
       "      <td>75.224998</td>\n",
       "      <td>74.370003</td>\n",
       "      <td>74.597504</td>\n",
       "      <td>72.970070</td>\n",
       "      <td>108872000</td>\n",
       "    </tr>\n",
       "    <tr>\n",
       "      <th>4</th>\n",
       "      <td>4</td>\n",
       "      <td>2020-01-08 00:00:00</td>\n",
       "      <td>74.290001</td>\n",
       "      <td>76.110001</td>\n",
       "      <td>74.290001</td>\n",
       "      <td>75.797501</td>\n",
       "      <td>74.143906</td>\n",
       "      <td>132079200</td>\n",
       "    </tr>\n",
       "  </tbody>\n",
       "</table>\n",
       "</div>"
      ],
      "text/plain": [
       "   Unnamed: 0                 Date       Open       High        Low  \\\n",
       "0           0  2020-01-02 00:00:00  74.059998  75.150002  73.797501   \n",
       "1           1  2020-01-03 00:00:00  74.287498  75.144997  74.125000   \n",
       "2           2  2020-01-06 00:00:00  73.447502  74.989998  73.187500   \n",
       "3           3  2020-01-07 00:00:00  74.959999  75.224998  74.370003   \n",
       "4           4  2020-01-08 00:00:00  74.290001  76.110001  74.290001   \n",
       "\n",
       "       Close  Adj Close     Volume  \n",
       "0  75.087502  73.449387  135480400  \n",
       "1  74.357498  72.735321  146322800  \n",
       "2  74.949997  73.314880  118387200  \n",
       "3  74.597504  72.970070  108872000  \n",
       "4  75.797501  74.143906  132079200  "
      ]
     },
     "execution_count": 17,
     "metadata": {},
     "output_type": "execute_result"
    }
   ],
   "source": [
    "df.head()"
   ]
  },
  {
   "cell_type": "code",
   "execution_count": 18,
   "id": "d0141c4d",
   "metadata": {},
   "outputs": [
    {
     "data": {
      "text/plain": [
       "0      2020-01-02 00:00:00\n",
       "1      2020-01-03 00:00:00\n",
       "2      2020-01-06 00:00:00\n",
       "3      2020-01-07 00:00:00\n",
       "4      2020-01-08 00:00:00\n",
       "              ...         \n",
       "781    2023-02-08 00:00:00\n",
       "782    2023-02-09 00:00:00\n",
       "783    2023-02-10 00:00:00\n",
       "784    2023-02-13 00:00:00\n",
       "785    2023-02-14 00:00:00\n",
       "Name: Date, Length: 786, dtype: object"
      ]
     },
     "execution_count": 18,
     "metadata": {},
     "output_type": "execute_result"
    }
   ],
   "source": [
    "#Checking 'Date' format.\n",
    "df['Date']"
   ]
  },
  {
   "cell_type": "code",
   "execution_count": 20,
   "id": "ee3c2f43",
   "metadata": {},
   "outputs": [],
   "source": [
    "#Transforming the Date to datetime format\n",
    "df['Date'] = pd.to_datetime(df['Date'])"
   ]
  },
  {
   "cell_type": "code",
   "execution_count": 21,
   "id": "9837c3b7",
   "metadata": {},
   "outputs": [
    {
     "data": {
      "text/plain": [
       "0     2020-01-02\n",
       "1     2020-01-03\n",
       "2     2020-01-06\n",
       "3     2020-01-07\n",
       "4     2020-01-08\n",
       "         ...    \n",
       "781   2023-02-08\n",
       "782   2023-02-09\n",
       "783   2023-02-10\n",
       "784   2023-02-13\n",
       "785   2023-02-14\n",
       "Name: Date, Length: 786, dtype: datetime64[ns]"
      ]
     },
     "execution_count": 21,
     "metadata": {},
     "output_type": "execute_result"
    }
   ],
   "source": [
    "df['Date']"
   ]
  },
  {
   "cell_type": "code",
   "execution_count": 22,
   "id": "6f35bcd4",
   "metadata": {},
   "outputs": [
    {
     "data": {
      "text/plain": [
       "0       75.087502\n",
       "1       74.357498\n",
       "2       74.949997\n",
       "3       74.597504\n",
       "4       75.797501\n",
       "          ...    \n",
       "781    151.919998\n",
       "782    150.869995\n",
       "783    151.009995\n",
       "784    153.850006\n",
       "785    153.399994\n",
       "Name: Close, Length: 786, dtype: float64"
      ]
     },
     "execution_count": 22,
     "metadata": {},
     "output_type": "execute_result"
    }
   ],
   "source": [
    "#Checking 'Close' format\n",
    "df['Close']"
   ]
  },
  {
   "cell_type": "code",
   "execution_count": 24,
   "id": "7307c61b",
   "metadata": {},
   "outputs": [
    {
     "data": {
      "image/png": "[encoded data removed]",
      "text/plain": [
       "<Figure size 1200x600 with 1 Axes>"
      ]
     },
     "metadata": {},
     "output_type": "display_data"
    }
   ],
   "source": [
    "#Data Visualization\n",
    "\n",
    "# Data in axis\n",
    "x = df['Date']\n",
    "y = df['Close']\n",
    "\n",
    "# Graph's size (dpi)\n",
    "plt.figure(figsize = (12,6), dpi = 100)\n",
    "\n",
    "# Plot\n",
    "plt.plot(x, y, label = 'AAPL')\n",
    "\n",
    "# Title\n",
    "plt.title('Cotação das Ações da Apple desde 2020', \n",
    "          fontdict = {'fontname': 'Comic Sans MS', 'fontsize': 16})\n",
    "\n",
    "# Label\n",
    "plt.xlabel('Tempo')\n",
    "plt.ylabel('Preço da Ação (USD)')\n",
    "\n",
    "# legend = on\n",
    "plt.legend()\n",
    "\n",
    "#Grid = on\n",
    "plt.grid()\n",
    "\n",
    "# Saves image n high resolution\n",
    "plt.savefig('imagens/APPLSockPricefrom2020.png', dpi = 300)\n",
    "\n",
    "# Plot\n",
    "plt.show()"
   ]
  },
  {
   "cell_type": "code",
   "execution_count": null,
   "id": "a0d4dfeb",
   "metadata": {},
   "outputs": [],
   "source": []
  }
 ],
 "metadata": {
  "kernelspec": {
   "display_name": "Python 3 (ipykernel)",
   "language": "python",
   "name": "python3"
  },
  "language_info": {
   "codemirror_mode": {
    "name": "ipython",
    "version": 3
   },
   "file_extension": ".py",
   "mimetype": "text/x-python",
   "name": "python",
   "nbconvert_exporter": "python",
   "pygments_lexer": "ipython3",
   "version": "3.9.13"
  }
 },
 "nbformat": 4,
 "nbformat_minor": 5
}
