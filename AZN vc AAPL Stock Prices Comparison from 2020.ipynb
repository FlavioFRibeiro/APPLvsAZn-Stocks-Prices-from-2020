{
 "cells": [
  {
   "cell_type": "markdown",
   "id": "d86717f5",
   "metadata": {},
   "source": [
    " ## Installing and Loading Packages"
   ]
  },
  {
   "cell_type": "code",
   "execution_count": 2,
   "id": "53cc9a5f",
   "metadata": {},
   "outputs": [
    {
     "name": "stdout",
     "output_type": "stream",
     "text": [
      "Python Version used in this Jupiter Nootebook: 3.9.13\n"
     ]
    }
   ],
   "source": [
    "# Python version used in this project\n",
    "from platform import python_version\n",
    "print('Python Version used in this Jupiter Nootebook:', python_version())"
   ]
  },
  {
   "cell_type": "code",
   "execution_count": 23,
   "id": "13e3aa38",
   "metadata": {},
   "outputs": [],
   "source": [
    "#! pip install yfinance --upgrade --no-cache-dir\n",
    "#! pip install pandas-datareader\n",
    "#! pip install xlwt"
   ]
  },
  {
   "cell_type": "code",
   "execution_count": 3,
   "id": "165b3e5d",
   "metadata": {},
   "outputs": [],
   "source": [
    "#Imports\n",
    "import pandas as pd\n",
    "import numpy as np\n",
    "import matplotlib.pyplot as plt\n",
    "import pandas_datareader\n",
    "import sqlite3\n",
    "import yfinance\n",
    "import warnings\n",
    "warnings.filterwarnings('ignore')"
   ]
  },
  {
   "cell_type": "code",
   "execution_count": 4,
   "id": "73117b5e",
   "metadata": {},
   "outputs": [
    {
     "name": "stdout",
     "output_type": "stream",
     "text": [
      "Author: Flavio F Ribeiro\n",
      "\n",
      "pandas           : 1.4.4\n",
      "yfinance         : 0.2.11\n",
      "pandas_datareader: 0.10.0\n",
      "matplotlib       : 3.5.2\n",
      "numpy            : 1.21.5\n",
      "sqlite3          : 2.6.0\n",
      "\n"
     ]
    }
   ],
   "source": [
    "# Packages versions used in this project\n",
    "%reload_ext watermark\n",
    "%watermark -a \"Flavio F Ribeiro\" --iversions"
   ]
  },
  {
   "cell_type": "markdown",
   "id": "5579d3f8",
   "metadata": {},
   "source": [
    "## Creating the variable for the company stock data"
   ]
  },
  {
   "cell_type": "code",
   "execution_count": 5,
   "id": "41cbc48d",
   "metadata": {},
   "outputs": [],
   "source": [
    "AAPL = \"AAPL\""
   ]
  },
  {
   "cell_type": "code",
   "execution_count": 6,
   "id": "fc1cdacc",
   "metadata": {},
   "outputs": [
    {
     "name": "stdout",
     "output_type": "stream",
     "text": [
      "[*********************100%***********************]  1 of 1 completed\n"
     ]
    }
   ],
   "source": [
    "AAPL = yfinance.download(AAPL)"
   ]
  },
  {
   "cell_type": "code",
   "execution_count": 7,
   "id": "db893875",
   "metadata": {},
   "outputs": [],
   "source": [
    "AZN = \"AZN\""
   ]
  },
  {
   "cell_type": "code",
   "execution_count": 8,
   "id": "b770e4f2",
   "metadata": {},
   "outputs": [
    {
     "name": "stdout",
     "output_type": "stream",
     "text": [
      "[*********************100%***********************]  1 of 1 completed\n"
     ]
    }
   ],
   "source": [
    "AZN = yfinance.download(AZN)"
   ]
  },
  {
   "cell_type": "markdown",
   "id": "bce3a352",
   "metadata": {},
   "source": [
    "## Exploratorion and Data Integrity Check"
   ]
  },
  {
   "cell_type": "code",
   "execution_count": 9,
   "id": "e6a0c511",
   "metadata": {},
   "outputs": [
    {
     "name": "stdout",
     "output_type": "stream",
     "text": [
      "<class 'pandas.core.frame.DataFrame'>\n",
      "DatetimeIndex: 10633 entries, 1980-12-12 to 2023-02-14\n",
      "Data columns (total 6 columns):\n",
      " #   Column     Non-Null Count  Dtype  \n",
      "---  ------     --------------  -----  \n",
      " 0   Open       10633 non-null  float64\n",
      " 1   High       10633 non-null  float64\n",
      " 2   Low        10633 non-null  float64\n",
      " 3   Close      10633 non-null  float64\n",
      " 4   Adj Close  10633 non-null  float64\n",
      " 5   Volume     10633 non-null  int64  \n",
      "dtypes: float64(5), int64(1)\n",
      "memory usage: 581.5 KB\n"
     ]
    }
   ],
   "source": [
    "AAPL.info()"
   ]
  },
  {
   "cell_type": "code",
   "execution_count": 10,
   "id": "48a4436b",
   "metadata": {},
   "outputs": [
    {
     "name": "stdout",
     "output_type": "stream",
     "text": [
      "<class 'pandas.core.frame.DataFrame'>\n",
      "DatetimeIndex: 7495 entries, 1993-05-12 to 2023-02-14\n",
      "Data columns (total 6 columns):\n",
      " #   Column     Non-Null Count  Dtype  \n",
      "---  ------     --------------  -----  \n",
      " 0   Open       7495 non-null   float64\n",
      " 1   High       7495 non-null   float64\n",
      " 2   Low        7495 non-null   float64\n",
      " 3   Close      7495 non-null   float64\n",
      " 4   Adj Close  7495 non-null   float64\n",
      " 5   Volume     7495 non-null   int64  \n",
      "dtypes: float64(5), int64(1)\n",
      "memory usage: 409.9 KB\n"
     ]
    }
   ],
   "source": [
    "AZN.info()"
   ]
  },
  {
   "cell_type": "markdown",
   "id": "2bb80861",
   "metadata": {},
   "source": [
    "## Saving in .xls and Loading in disc"
   ]
  },
  {
   "cell_type": "markdown",
   "id": "9aa20e35",
   "metadata": {},
   "source": [
    "### Saving in .xls"
   ]
  },
  {
   "cell_type": "code",
   "execution_count": 11,
   "id": "a1719c90",
   "metadata": {},
   "outputs": [],
   "source": [
    "AAPL.to_excel(\"StockPrices/AAPL.xls\")"
   ]
  },
  {
   "cell_type": "code",
   "execution_count": 12,
   "id": "fc437b61",
   "metadata": {},
   "outputs": [],
   "source": [
    "AZN.to_excel(\"StockPrices/AZN.xls\")"
   ]
  },
  {
   "cell_type": "markdown",
   "id": "e6e97820",
   "metadata": {},
   "source": [
    "### Loading into Disc"
   ]
  },
  {
   "cell_type": "code",
   "execution_count": 13,
   "id": "b3ec3669",
   "metadata": {},
   "outputs": [],
   "source": [
    "df_apple = pd.read_excel(\"StockPrices/AAPL.xls\")"
   ]
  },
  {
   "cell_type": "code",
   "execution_count": 14,
   "id": "fe4d51f3",
   "metadata": {},
   "outputs": [],
   "source": [
    "df_azn = pd.read_excel(\"StockPrices/AZN.xls\")"
   ]
  },
  {
   "cell_type": "markdown",
   "id": "3e885f7b",
   "metadata": {},
   "source": [
    "## Using SQL"
   ]
  },
  {
   "cell_type": "code",
   "execution_count": 24,
   "id": "a3f11b0f",
   "metadata": {},
   "outputs": [],
   "source": [
    "#For Apple stocks\n",
    "conn = sqlite3.connect(\"StockPrices/AAPL.db\")\n",
    "c = conn.cursor()"
   ]
  },
  {
   "cell_type": "code",
   "execution_count": 25,
   "id": "d6454cb4",
   "metadata": {},
   "outputs": [
    {
     "data": {
      "text/plain": [
       "10633"
      ]
     },
     "execution_count": 25,
     "metadata": {},
     "output_type": "execute_result"
    }
   ],
   "source": [
    "AAPL.to_sql(\"AAPL\", conn, if_exists = 'replace')"
   ]
  },
  {
   "cell_type": "code",
   "execution_count": 26,
   "id": "22be5673",
   "metadata": {},
   "outputs": [],
   "source": [
    "# SQL query to DataFrame\n",
    "df_apple = pd.read_sql_query(\"\"\" SELECT * FROM AAPL WHERE Date >= \"2020-01-01\" \"\"\", conn)"
   ]
  },
  {
   "cell_type": "code",
   "execution_count": 27,
   "id": "ef34de51",
   "metadata": {},
   "outputs": [
    {
     "data": {
      "text/html": [
       "<div>\n",
       "<style scoped>\n",
       "    .dataframe tbody tr th:only-of-type {\n",
       "        vertical-align: middle;\n",
       "    }\n",
       "\n",
       "    .dataframe tbody tr th {\n",
       "        vertical-align: top;\n",
       "    }\n",
       "\n",
       "    .dataframe thead th {\n",
       "        text-align: right;\n",
       "    }\n",
       "</style>\n",
       "<table border=\"1\" class=\"dataframe\">\n",
       "  <thead>\n",
       "    <tr style=\"text-align: right;\">\n",
       "      <th></th>\n",
       "      <th>Date</th>\n",
       "      <th>Open</th>\n",
       "      <th>High</th>\n",
       "      <th>Low</th>\n",
       "      <th>Close</th>\n",
       "      <th>Adj Close</th>\n",
       "      <th>Volume</th>\n",
       "    </tr>\n",
       "  </thead>\n",
       "  <tbody>\n",
       "    <tr>\n",
       "      <th>0</th>\n",
       "      <td>2020-01-02 00:00:00</td>\n",
       "      <td>74.059998</td>\n",
       "      <td>75.150002</td>\n",
       "      <td>73.797501</td>\n",
       "      <td>75.087502</td>\n",
       "      <td>73.449402</td>\n",
       "      <td>135480400</td>\n",
       "    </tr>\n",
       "    <tr>\n",
       "      <th>1</th>\n",
       "      <td>2020-01-03 00:00:00</td>\n",
       "      <td>74.287498</td>\n",
       "      <td>75.144997</td>\n",
       "      <td>74.125000</td>\n",
       "      <td>74.357498</td>\n",
       "      <td>72.735321</td>\n",
       "      <td>146322800</td>\n",
       "    </tr>\n",
       "    <tr>\n",
       "      <th>2</th>\n",
       "      <td>2020-01-06 00:00:00</td>\n",
       "      <td>73.447502</td>\n",
       "      <td>74.989998</td>\n",
       "      <td>73.187500</td>\n",
       "      <td>74.949997</td>\n",
       "      <td>73.314880</td>\n",
       "      <td>118387200</td>\n",
       "    </tr>\n",
       "    <tr>\n",
       "      <th>3</th>\n",
       "      <td>2020-01-07 00:00:00</td>\n",
       "      <td>74.959999</td>\n",
       "      <td>75.224998</td>\n",
       "      <td>74.370003</td>\n",
       "      <td>74.597504</td>\n",
       "      <td>72.970085</td>\n",
       "      <td>108872000</td>\n",
       "    </tr>\n",
       "    <tr>\n",
       "      <th>4</th>\n",
       "      <td>2020-01-08 00:00:00</td>\n",
       "      <td>74.290001</td>\n",
       "      <td>76.110001</td>\n",
       "      <td>74.290001</td>\n",
       "      <td>75.797501</td>\n",
       "      <td>74.143906</td>\n",
       "      <td>132079200</td>\n",
       "    </tr>\n",
       "    <tr>\n",
       "      <th>...</th>\n",
       "      <td>...</td>\n",
       "      <td>...</td>\n",
       "      <td>...</td>\n",
       "      <td>...</td>\n",
       "      <td>...</td>\n",
       "      <td>...</td>\n",
       "      <td>...</td>\n",
       "    </tr>\n",
       "    <tr>\n",
       "      <th>781</th>\n",
       "      <td>2023-02-08 00:00:00</td>\n",
       "      <td>153.880005</td>\n",
       "      <td>154.580002</td>\n",
       "      <td>151.169998</td>\n",
       "      <td>151.919998</td>\n",
       "      <td>151.688400</td>\n",
       "      <td>64120100</td>\n",
       "    </tr>\n",
       "    <tr>\n",
       "      <th>782</th>\n",
       "      <td>2023-02-09 00:00:00</td>\n",
       "      <td>153.779999</td>\n",
       "      <td>154.330002</td>\n",
       "      <td>150.419998</td>\n",
       "      <td>150.869995</td>\n",
       "      <td>150.639999</td>\n",
       "      <td>56007100</td>\n",
       "    </tr>\n",
       "    <tr>\n",
       "      <th>783</th>\n",
       "      <td>2023-02-10 00:00:00</td>\n",
       "      <td>149.460007</td>\n",
       "      <td>151.339996</td>\n",
       "      <td>149.220001</td>\n",
       "      <td>151.009995</td>\n",
       "      <td>151.009995</td>\n",
       "      <td>57409100</td>\n",
       "    </tr>\n",
       "    <tr>\n",
       "      <th>784</th>\n",
       "      <td>2023-02-13 00:00:00</td>\n",
       "      <td>150.949997</td>\n",
       "      <td>154.259995</td>\n",
       "      <td>150.919998</td>\n",
       "      <td>153.850006</td>\n",
       "      <td>153.850006</td>\n",
       "      <td>62123800</td>\n",
       "    </tr>\n",
       "    <tr>\n",
       "      <th>785</th>\n",
       "      <td>2023-02-14 00:00:00</td>\n",
       "      <td>152.119995</td>\n",
       "      <td>153.770004</td>\n",
       "      <td>150.869995</td>\n",
       "      <td>151.410004</td>\n",
       "      <td>151.410004</td>\n",
       "      <td>27542459</td>\n",
       "    </tr>\n",
       "  </tbody>\n",
       "</table>\n",
       "<p>786 rows × 7 columns</p>\n",
       "</div>"
      ],
      "text/plain": [
       "                    Date        Open        High         Low       Close  \\\n",
       "0    2020-01-02 00:00:00   74.059998   75.150002   73.797501   75.087502   \n",
       "1    2020-01-03 00:00:00   74.287498   75.144997   74.125000   74.357498   \n",
       "2    2020-01-06 00:00:00   73.447502   74.989998   73.187500   74.949997   \n",
       "3    2020-01-07 00:00:00   74.959999   75.224998   74.370003   74.597504   \n",
       "4    2020-01-08 00:00:00   74.290001   76.110001   74.290001   75.797501   \n",
       "..                   ...         ...         ...         ...         ...   \n",
       "781  2023-02-08 00:00:00  153.880005  154.580002  151.169998  151.919998   \n",
       "782  2023-02-09 00:00:00  153.779999  154.330002  150.419998  150.869995   \n",
       "783  2023-02-10 00:00:00  149.460007  151.339996  149.220001  151.009995   \n",
       "784  2023-02-13 00:00:00  150.949997  154.259995  150.919998  153.850006   \n",
       "785  2023-02-14 00:00:00  152.119995  153.770004  150.869995  151.410004   \n",
       "\n",
       "      Adj Close     Volume  \n",
       "0     73.449402  135480400  \n",
       "1     72.735321  146322800  \n",
       "2     73.314880  118387200  \n",
       "3     72.970085  108872000  \n",
       "4     74.143906  132079200  \n",
       "..          ...        ...  \n",
       "781  151.688400   64120100  \n",
       "782  150.639999   56007100  \n",
       "783  151.009995   57409100  \n",
       "784  153.850006   62123800  \n",
       "785  151.410004   27542459  \n",
       "\n",
       "[786 rows x 7 columns]"
      ]
     },
     "execution_count": 27,
     "metadata": {},
     "output_type": "execute_result"
    }
   ],
   "source": [
    "df_apple"
   ]
  },
  {
   "cell_type": "code",
   "execution_count": 29,
   "id": "03805994",
   "metadata": {},
   "outputs": [],
   "source": [
    "#Saves a .xls file from period from 2020\n",
    "df_apple.to_excel(\"StockPrices/AAPLfrom020.xls\")"
   ]
  },
  {
   "cell_type": "code",
   "execution_count": 30,
   "id": "2fa49c66",
   "metadata": {},
   "outputs": [],
   "source": [
    "#loads in disc again\n",
    "df_apple = pd.read_excel(\"StockPrices/AAPLfrom020.xls\")"
   ]
  },
  {
   "cell_type": "code",
   "execution_count": 32,
   "id": "792d6493",
   "metadata": {},
   "outputs": [
    {
     "data": {
      "text/html": [
       "<div>\n",
       "<style scoped>\n",
       "    .dataframe tbody tr th:only-of-type {\n",
       "        vertical-align: middle;\n",
       "    }\n",
       "\n",
       "    .dataframe tbody tr th {\n",
       "        vertical-align: top;\n",
       "    }\n",
       "\n",
       "    .dataframe thead th {\n",
       "        text-align: right;\n",
       "    }\n",
       "</style>\n",
       "<table border=\"1\" class=\"dataframe\">\n",
       "  <thead>\n",
       "    <tr style=\"text-align: right;\">\n",
       "      <th></th>\n",
       "      <th>Unnamed: 0</th>\n",
       "      <th>Date</th>\n",
       "      <th>Open</th>\n",
       "      <th>High</th>\n",
       "      <th>Low</th>\n",
       "      <th>Close</th>\n",
       "      <th>Adj Close</th>\n",
       "      <th>Volume</th>\n",
       "    </tr>\n",
       "  </thead>\n",
       "  <tbody>\n",
       "    <tr>\n",
       "      <th>0</th>\n",
       "      <td>0</td>\n",
       "      <td>2020-01-02 00:00:00</td>\n",
       "      <td>74.059998</td>\n",
       "      <td>75.150002</td>\n",
       "      <td>73.797501</td>\n",
       "      <td>75.087502</td>\n",
       "      <td>73.449402</td>\n",
       "      <td>135480400</td>\n",
       "    </tr>\n",
       "    <tr>\n",
       "      <th>1</th>\n",
       "      <td>1</td>\n",
       "      <td>2020-01-03 00:00:00</td>\n",
       "      <td>74.287498</td>\n",
       "      <td>75.144997</td>\n",
       "      <td>74.125000</td>\n",
       "      <td>74.357498</td>\n",
       "      <td>72.735321</td>\n",
       "      <td>146322800</td>\n",
       "    </tr>\n",
       "    <tr>\n",
       "      <th>2</th>\n",
       "      <td>2</td>\n",
       "      <td>2020-01-06 00:00:00</td>\n",
       "      <td>73.447502</td>\n",
       "      <td>74.989998</td>\n",
       "      <td>73.187500</td>\n",
       "      <td>74.949997</td>\n",
       "      <td>73.314880</td>\n",
       "      <td>118387200</td>\n",
       "    </tr>\n",
       "    <tr>\n",
       "      <th>3</th>\n",
       "      <td>3</td>\n",
       "      <td>2020-01-07 00:00:00</td>\n",
       "      <td>74.959999</td>\n",
       "      <td>75.224998</td>\n",
       "      <td>74.370003</td>\n",
       "      <td>74.597504</td>\n",
       "      <td>72.970085</td>\n",
       "      <td>108872000</td>\n",
       "    </tr>\n",
       "    <tr>\n",
       "      <th>4</th>\n",
       "      <td>4</td>\n",
       "      <td>2020-01-08 00:00:00</td>\n",
       "      <td>74.290001</td>\n",
       "      <td>76.110001</td>\n",
       "      <td>74.290001</td>\n",
       "      <td>75.797501</td>\n",
       "      <td>74.143906</td>\n",
       "      <td>132079200</td>\n",
       "    </tr>\n",
       "  </tbody>\n",
       "</table>\n",
       "</div>"
      ],
      "text/plain": [
       "   Unnamed: 0                 Date       Open       High        Low  \\\n",
       "0           0  2020-01-02 00:00:00  74.059998  75.150002  73.797501   \n",
       "1           1  2020-01-03 00:00:00  74.287498  75.144997  74.125000   \n",
       "2           2  2020-01-06 00:00:00  73.447502  74.989998  73.187500   \n",
       "3           3  2020-01-07 00:00:00  74.959999  75.224998  74.370003   \n",
       "4           4  2020-01-08 00:00:00  74.290001  76.110001  74.290001   \n",
       "\n",
       "       Close  Adj Close     Volume  \n",
       "0  75.087502  73.449402  135480400  \n",
       "1  74.357498  72.735321  146322800  \n",
       "2  74.949997  73.314880  118387200  \n",
       "3  74.597504  72.970085  108872000  \n",
       "4  75.797501  74.143906  132079200  "
      ]
     },
     "execution_count": 32,
     "metadata": {},
     "output_type": "execute_result"
    }
   ],
   "source": [
    "df_apple.head()"
   ]
  },
  {
   "cell_type": "code",
   "execution_count": 33,
   "id": "f12c4023",
   "metadata": {},
   "outputs": [],
   "source": [
    "#For AZN stocks\n",
    "conn = sqlite3.connect(\"StockPrices/AZN.db\")\n",
    "c = conn.cursor()"
   ]
  },
  {
   "cell_type": "code",
   "execution_count": 34,
   "id": "3df84b64",
   "metadata": {},
   "outputs": [
    {
     "data": {
      "text/plain": [
       "7495"
      ]
     },
     "execution_count": 34,
     "metadata": {},
     "output_type": "execute_result"
    }
   ],
   "source": [
    "AZN.to_sql(\"AZN\", conn, if_exists = 'replace')"
   ]
  },
  {
   "cell_type": "code",
   "execution_count": 35,
   "id": "aa1d30d5",
   "metadata": {},
   "outputs": [],
   "source": [
    "# SQL query to DataFrame\n",
    "df_azn = pd.read_sql_query(\"\"\" SELECT * FROM AZN WHERE Date >= \"2020-01-01\" \"\"\", conn)"
   ]
  },
  {
   "cell_type": "code",
   "execution_count": 36,
   "id": "8382ee9f",
   "metadata": {},
   "outputs": [
    {
     "data": {
      "text/html": [
       "<div>\n",
       "<style scoped>\n",
       "    .dataframe tbody tr th:only-of-type {\n",
       "        vertical-align: middle;\n",
       "    }\n",
       "\n",
       "    .dataframe tbody tr th {\n",
       "        vertical-align: top;\n",
       "    }\n",
       "\n",
       "    .dataframe thead th {\n",
       "        text-align: right;\n",
       "    }\n",
       "</style>\n",
       "<table border=\"1\" class=\"dataframe\">\n",
       "  <thead>\n",
       "    <tr style=\"text-align: right;\">\n",
       "      <th></th>\n",
       "      <th>Date</th>\n",
       "      <th>Open</th>\n",
       "      <th>High</th>\n",
       "      <th>Low</th>\n",
       "      <th>Close</th>\n",
       "      <th>Adj Close</th>\n",
       "      <th>Volume</th>\n",
       "    </tr>\n",
       "  </thead>\n",
       "  <tbody>\n",
       "    <tr>\n",
       "      <th>0</th>\n",
       "      <td>2020-01-02 00:00:00</td>\n",
       "      <td>50.299999</td>\n",
       "      <td>50.490002</td>\n",
       "      <td>50.130001</td>\n",
       "      <td>50.389999</td>\n",
       "      <td>46.576225</td>\n",
       "      <td>3587300</td>\n",
       "    </tr>\n",
       "    <tr>\n",
       "      <th>1</th>\n",
       "      <td>2020-01-03 00:00:00</td>\n",
       "      <td>49.880001</td>\n",
       "      <td>50.380001</td>\n",
       "      <td>49.830002</td>\n",
       "      <td>50.090000</td>\n",
       "      <td>46.298923</td>\n",
       "      <td>1208700</td>\n",
       "    </tr>\n",
       "    <tr>\n",
       "      <th>2</th>\n",
       "      <td>2020-01-06 00:00:00</td>\n",
       "      <td>50.040001</td>\n",
       "      <td>50.220001</td>\n",
       "      <td>49.740002</td>\n",
       "      <td>49.880001</td>\n",
       "      <td>46.104824</td>\n",
       "      <td>1992300</td>\n",
       "    </tr>\n",
       "    <tr>\n",
       "      <th>3</th>\n",
       "      <td>2020-01-07 00:00:00</td>\n",
       "      <td>50.139999</td>\n",
       "      <td>50.299999</td>\n",
       "      <td>49.869999</td>\n",
       "      <td>50.070000</td>\n",
       "      <td>46.280441</td>\n",
       "      <td>1871900</td>\n",
       "    </tr>\n",
       "    <tr>\n",
       "      <th>4</th>\n",
       "      <td>2020-01-08 00:00:00</td>\n",
       "      <td>49.869999</td>\n",
       "      <td>50.169998</td>\n",
       "      <td>49.750000</td>\n",
       "      <td>49.950001</td>\n",
       "      <td>46.169521</td>\n",
       "      <td>1869000</td>\n",
       "    </tr>\n",
       "    <tr>\n",
       "      <th>...</th>\n",
       "      <td>...</td>\n",
       "      <td>...</td>\n",
       "      <td>...</td>\n",
       "      <td>...</td>\n",
       "      <td>...</td>\n",
       "      <td>...</td>\n",
       "      <td>...</td>\n",
       "    </tr>\n",
       "    <tr>\n",
       "      <th>781</th>\n",
       "      <td>2023-02-08 00:00:00</td>\n",
       "      <td>65.269997</td>\n",
       "      <td>65.279999</td>\n",
       "      <td>64.199997</td>\n",
       "      <td>64.360001</td>\n",
       "      <td>64.360001</td>\n",
       "      <td>5036800</td>\n",
       "    </tr>\n",
       "    <tr>\n",
       "      <th>782</th>\n",
       "      <td>2023-02-09 00:00:00</td>\n",
       "      <td>68.309998</td>\n",
       "      <td>68.589996</td>\n",
       "      <td>67.279999</td>\n",
       "      <td>67.419998</td>\n",
       "      <td>67.419998</td>\n",
       "      <td>8368000</td>\n",
       "    </tr>\n",
       "    <tr>\n",
       "      <th>783</th>\n",
       "      <td>2023-02-10 00:00:00</td>\n",
       "      <td>68.610001</td>\n",
       "      <td>69.000000</td>\n",
       "      <td>68.209999</td>\n",
       "      <td>68.879997</td>\n",
       "      <td>68.879997</td>\n",
       "      <td>5918200</td>\n",
       "    </tr>\n",
       "    <tr>\n",
       "      <th>784</th>\n",
       "      <td>2023-02-13 00:00:00</td>\n",
       "      <td>68.529999</td>\n",
       "      <td>69.769997</td>\n",
       "      <td>68.500000</td>\n",
       "      <td>69.709999</td>\n",
       "      <td>69.709999</td>\n",
       "      <td>5003600</td>\n",
       "    </tr>\n",
       "    <tr>\n",
       "      <th>785</th>\n",
       "      <td>2023-02-14 00:00:00</td>\n",
       "      <td>69.919998</td>\n",
       "      <td>70.519997</td>\n",
       "      <td>69.794998</td>\n",
       "      <td>69.955002</td>\n",
       "      <td>69.955002</td>\n",
       "      <td>2332978</td>\n",
       "    </tr>\n",
       "  </tbody>\n",
       "</table>\n",
       "<p>786 rows × 7 columns</p>\n",
       "</div>"
      ],
      "text/plain": [
       "                    Date       Open       High        Low      Close  \\\n",
       "0    2020-01-02 00:00:00  50.299999  50.490002  50.130001  50.389999   \n",
       "1    2020-01-03 00:00:00  49.880001  50.380001  49.830002  50.090000   \n",
       "2    2020-01-06 00:00:00  50.040001  50.220001  49.740002  49.880001   \n",
       "3    2020-01-07 00:00:00  50.139999  50.299999  49.869999  50.070000   \n",
       "4    2020-01-08 00:00:00  49.869999  50.169998  49.750000  49.950001   \n",
       "..                   ...        ...        ...        ...        ...   \n",
       "781  2023-02-08 00:00:00  65.269997  65.279999  64.199997  64.360001   \n",
       "782  2023-02-09 00:00:00  68.309998  68.589996  67.279999  67.419998   \n",
       "783  2023-02-10 00:00:00  68.610001  69.000000  68.209999  68.879997   \n",
       "784  2023-02-13 00:00:00  68.529999  69.769997  68.500000  69.709999   \n",
       "785  2023-02-14 00:00:00  69.919998  70.519997  69.794998  69.955002   \n",
       "\n",
       "     Adj Close   Volume  \n",
       "0    46.576225  3587300  \n",
       "1    46.298923  1208700  \n",
       "2    46.104824  1992300  \n",
       "3    46.280441  1871900  \n",
       "4    46.169521  1869000  \n",
       "..         ...      ...  \n",
       "781  64.360001  5036800  \n",
       "782  67.419998  8368000  \n",
       "783  68.879997  5918200  \n",
       "784  69.709999  5003600  \n",
       "785  69.955002  2332978  \n",
       "\n",
       "[786 rows x 7 columns]"
      ]
     },
     "execution_count": 36,
     "metadata": {},
     "output_type": "execute_result"
    }
   ],
   "source": [
    "df_azn"
   ]
  },
  {
   "cell_type": "code",
   "execution_count": 37,
   "id": "b48699a8",
   "metadata": {},
   "outputs": [],
   "source": [
    "#Saves a .xls file from period from 2020\n",
    "df_azn.to_excel(\"StockPrices/AZNfrom020.xls\")"
   ]
  },
  {
   "cell_type": "code",
   "execution_count": 38,
   "id": "c9428044",
   "metadata": {},
   "outputs": [],
   "source": [
    "#loads in disc again\n",
    "df_azn = pd.read_excel(\"StockPrices/aznfrom020.xls\")"
   ]
  },
  {
   "cell_type": "code",
   "execution_count": 39,
   "id": "dcaf24d2",
   "metadata": {},
   "outputs": [
    {
     "data": {
      "text/html": [
       "<div>\n",
       "<style scoped>\n",
       "    .dataframe tbody tr th:only-of-type {\n",
       "        vertical-align: middle;\n",
       "    }\n",
       "\n",
       "    .dataframe tbody tr th {\n",
       "        vertical-align: top;\n",
       "    }\n",
       "\n",
       "    .dataframe thead th {\n",
       "        text-align: right;\n",
       "    }\n",
       "</style>\n",
       "<table border=\"1\" class=\"dataframe\">\n",
       "  <thead>\n",
       "    <tr style=\"text-align: right;\">\n",
       "      <th></th>\n",
       "      <th>Unnamed: 0</th>\n",
       "      <th>Date</th>\n",
       "      <th>Open</th>\n",
       "      <th>High</th>\n",
       "      <th>Low</th>\n",
       "      <th>Close</th>\n",
       "      <th>Adj Close</th>\n",
       "      <th>Volume</th>\n",
       "    </tr>\n",
       "  </thead>\n",
       "  <tbody>\n",
       "    <tr>\n",
       "      <th>0</th>\n",
       "      <td>0</td>\n",
       "      <td>2020-01-02 00:00:00</td>\n",
       "      <td>50.299999</td>\n",
       "      <td>50.490002</td>\n",
       "      <td>50.130001</td>\n",
       "      <td>50.389999</td>\n",
       "      <td>46.576225</td>\n",
       "      <td>3587300</td>\n",
       "    </tr>\n",
       "    <tr>\n",
       "      <th>1</th>\n",
       "      <td>1</td>\n",
       "      <td>2020-01-03 00:00:00</td>\n",
       "      <td>49.880001</td>\n",
       "      <td>50.380001</td>\n",
       "      <td>49.830002</td>\n",
       "      <td>50.090000</td>\n",
       "      <td>46.298923</td>\n",
       "      <td>1208700</td>\n",
       "    </tr>\n",
       "    <tr>\n",
       "      <th>2</th>\n",
       "      <td>2</td>\n",
       "      <td>2020-01-06 00:00:00</td>\n",
       "      <td>50.040001</td>\n",
       "      <td>50.220001</td>\n",
       "      <td>49.740002</td>\n",
       "      <td>49.880001</td>\n",
       "      <td>46.104824</td>\n",
       "      <td>1992300</td>\n",
       "    </tr>\n",
       "    <tr>\n",
       "      <th>3</th>\n",
       "      <td>3</td>\n",
       "      <td>2020-01-07 00:00:00</td>\n",
       "      <td>50.139999</td>\n",
       "      <td>50.299999</td>\n",
       "      <td>49.869999</td>\n",
       "      <td>50.070000</td>\n",
       "      <td>46.280441</td>\n",
       "      <td>1871900</td>\n",
       "    </tr>\n",
       "    <tr>\n",
       "      <th>4</th>\n",
       "      <td>4</td>\n",
       "      <td>2020-01-08 00:00:00</td>\n",
       "      <td>49.869999</td>\n",
       "      <td>50.169998</td>\n",
       "      <td>49.750000</td>\n",
       "      <td>49.950001</td>\n",
       "      <td>46.169521</td>\n",
       "      <td>1869000</td>\n",
       "    </tr>\n",
       "  </tbody>\n",
       "</table>\n",
       "</div>"
      ],
      "text/plain": [
       "   Unnamed: 0                 Date       Open       High        Low  \\\n",
       "0           0  2020-01-02 00:00:00  50.299999  50.490002  50.130001   \n",
       "1           1  2020-01-03 00:00:00  49.880001  50.380001  49.830002   \n",
       "2           2  2020-01-06 00:00:00  50.040001  50.220001  49.740002   \n",
       "3           3  2020-01-07 00:00:00  50.139999  50.299999  49.869999   \n",
       "4           4  2020-01-08 00:00:00  49.869999  50.169998  49.750000   \n",
       "\n",
       "       Close  Adj Close   Volume  \n",
       "0  50.389999  46.576225  3587300  \n",
       "1  50.090000  46.298923  1208700  \n",
       "2  49.880001  46.104824  1992300  \n",
       "3  50.070000  46.280441  1871900  \n",
       "4  49.950001  46.169521  1869000  "
      ]
     },
     "execution_count": 39,
     "metadata": {},
     "output_type": "execute_result"
    }
   ],
   "source": [
    "df_azn.head()"
   ]
  },
  {
   "cell_type": "markdown",
   "id": "5eaf35cf",
   "metadata": {},
   "source": [
    "### Cheking data"
   ]
  },
  {
   "cell_type": "code",
   "execution_count": 40,
   "id": "d0141c4d",
   "metadata": {},
   "outputs": [
    {
     "data": {
      "text/plain": [
       "0      2020-01-02 00:00:00\n",
       "1      2020-01-03 00:00:00\n",
       "2      2020-01-06 00:00:00\n",
       "3      2020-01-07 00:00:00\n",
       "4      2020-01-08 00:00:00\n",
       "              ...         \n",
       "781    2023-02-08 00:00:00\n",
       "782    2023-02-09 00:00:00\n",
       "783    2023-02-10 00:00:00\n",
       "784    2023-02-13 00:00:00\n",
       "785    2023-02-14 00:00:00\n",
       "Name: Date, Length: 786, dtype: object"
      ]
     },
     "execution_count": 40,
     "metadata": {},
     "output_type": "execute_result"
    }
   ],
   "source": [
    "#Checking 'Date' format.\n",
    "df_apple['Date']"
   ]
  },
  {
   "cell_type": "code",
   "execution_count": 41,
   "id": "851c024c",
   "metadata": {},
   "outputs": [
    {
     "data": {
      "text/plain": [
       "0      2020-01-02 00:00:00\n",
       "1      2020-01-03 00:00:00\n",
       "2      2020-01-06 00:00:00\n",
       "3      2020-01-07 00:00:00\n",
       "4      2020-01-08 00:00:00\n",
       "              ...         \n",
       "781    2023-02-08 00:00:00\n",
       "782    2023-02-09 00:00:00\n",
       "783    2023-02-10 00:00:00\n",
       "784    2023-02-13 00:00:00\n",
       "785    2023-02-14 00:00:00\n",
       "Name: Date, Length: 786, dtype: object"
      ]
     },
     "execution_count": 41,
     "metadata": {},
     "output_type": "execute_result"
    }
   ],
   "source": [
    "#Checking 'Date' format.\n",
    "df_azn['Date']"
   ]
  },
  {
   "cell_type": "code",
   "execution_count": 42,
   "id": "dc5c36dd",
   "metadata": {},
   "outputs": [],
   "source": [
    "#Transforminf date from object to datetime\n",
    "df_apple['Date'] = pd.to_datetime(df_apple['Date'])\n",
    "df_azn['Date'] = pd.to_datetime(df_azn['Date'])"
   ]
  },
  {
   "cell_type": "code",
   "execution_count": 43,
   "id": "3c7f1871",
   "metadata": {},
   "outputs": [
    {
     "data": {
      "text/plain": [
       "0     2020-01-02\n",
       "1     2020-01-03\n",
       "2     2020-01-06\n",
       "3     2020-01-07\n",
       "4     2020-01-08\n",
       "         ...    \n",
       "781   2023-02-08\n",
       "782   2023-02-09\n",
       "783   2023-02-10\n",
       "784   2023-02-13\n",
       "785   2023-02-14\n",
       "Name: Date, Length: 786, dtype: datetime64[ns]"
      ]
     },
     "execution_count": 43,
     "metadata": {},
     "output_type": "execute_result"
    }
   ],
   "source": [
    "#Checking Date data type\n",
    "df_apple['Date']"
   ]
  },
  {
   "cell_type": "code",
   "execution_count": 44,
   "id": "2e077cef",
   "metadata": {},
   "outputs": [
    {
     "data": {
      "text/plain": [
       "0     2020-01-02\n",
       "1     2020-01-03\n",
       "2     2020-01-06\n",
       "3     2020-01-07\n",
       "4     2020-01-08\n",
       "         ...    \n",
       "781   2023-02-08\n",
       "782   2023-02-09\n",
       "783   2023-02-10\n",
       "784   2023-02-13\n",
       "785   2023-02-14\n",
       "Name: Date, Length: 786, dtype: datetime64[ns]"
      ]
     },
     "execution_count": 44,
     "metadata": {},
     "output_type": "execute_result"
    }
   ],
   "source": [
    "df_azn['Date']"
   ]
  },
  {
   "cell_type": "markdown",
   "id": "21f10966",
   "metadata": {},
   "source": [
    "## Ploting the Graph"
   ]
  },
  {
   "cell_type": "code",
   "execution_count": 46,
   "id": "7307c61b",
   "metadata": {},
   "outputs": [
    {
     "data": {
      "image/png": "[encoded data removed]",
      "text/plain": [
       "<Figure size 1200x600 with 1 Axes>"
      ]
     },
     "metadata": {},
     "output_type": "display_data"
    }
   ],
   "source": [
    "#Data Visualization\n",
    "\n",
    "# Data in axis\n",
    "x1 = df_apple['Date']\n",
    "y1 = df_apple['Close']\n",
    "x2 = df_azn['Date']\n",
    "y2 = df_azn['Close']\n",
    "\n",
    "# Graph's size (dpi)\n",
    "plt.figure(figsize = (12,6), dpi = 100)\n",
    "\n",
    "# Plot\n",
    "plt.plot(x1, y1, label = 'AAPL')\n",
    "plt.plot(x2, y2, label = 'AZN')\n",
    "\n",
    "# Title\n",
    "plt.title('Cotação das Ações da Apple desde 2020', \n",
    "          fontdict = {'fontname': 'Comic Sans MS', 'fontsize': 16})\n",
    "\n",
    "# Label\n",
    "plt.xlabel('Tempo')\n",
    "plt.ylabel('Preço da Ação (USD)')\n",
    "\n",
    "# legend = on\n",
    "plt.legend()\n",
    "\n",
    "#Grid = on\n",
    "plt.grid()\n",
    "\n",
    "# Saves image n high resolution\n",
    "plt.savefig('imagens/APPLvsAZNSockPricefrom2020.png', dpi = 300)\n",
    "\n",
    "# Plot\n",
    "plt.show()"
   ]
  },
  {
   "cell_type": "code",
   "execution_count": null,
   "id": "a0d4dfeb",
   "metadata": {},
   "outputs": [],
   "source": []
  }
 ],
 "metadata": {
  "kernelspec": {
   "display_name": "Python 3 (ipykernel)",
   "language": "python",
   "name": "python3"
  },
  "language_info": {
   "codemirror_mode": {
    "name": "ipython",
    "version": 3
   },
   "file_extension": ".py",
   "mimetype": "text/x-python",
   "name": "python",
   "nbconvert_exporter": "python",
   "pygments_lexer": "ipython3",
   "version": "3.9.13"
  }
 },
 "nbformat": 4,
 "nbformat_minor": 5
}
