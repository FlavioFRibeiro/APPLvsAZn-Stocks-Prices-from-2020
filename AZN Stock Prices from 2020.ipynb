{
 "cells": [
  {
   "cell_type": "markdown",
   "id": "d86717f5",
   "metadata": {},
   "source": [
    " ## Installing and Loading Packages"
   ]
  },
  {
   "cell_type": "code",
   "execution_count": 1,
   "id": "53cc9a5f",
   "metadata": {},
   "outputs": [
    {
     "name": "stdout",
     "output_type": "stream",
     "text": [
      "Python Version used in this Jupiter Nootebook: 3.9.13\n"
     ]
    }
   ],
   "source": [
    "# Python version used in this project\n",
    "from platform import python_version\n",
    "print('Python Version used in this Jupiter Nootebook:', python_version())"
   ]
  },
  {
   "cell_type": "code",
   "execution_count": null,
   "id": "13e3aa38",
   "metadata": {},
   "outputs": [],
   "source": [
    "! pip install yfinance --upgrade --no-cache-dir"
   ]
  },
  {
   "cell_type": "code",
   "execution_count": null,
   "id": "65413baa",
   "metadata": {},
   "outputs": [],
   "source": [
    "! pip install pandas-datareader"
   ]
  },
  {
   "cell_type": "code",
   "execution_count": null,
   "id": "0fef1be6",
   "metadata": {},
   "outputs": [],
   "source": [
    "! pip install xlwt"
   ]
  },
  {
   "cell_type": "code",
   "execution_count": 2,
   "id": "165b3e5d",
   "metadata": {},
   "outputs": [],
   "source": [
    "#Imports\n",
    "import pandas as pd\n",
    "import numpy as np\n",
    "import matplotlib.pyplot as plt\n",
    "import pandas_datareader\n",
    "import sqlite3\n",
    "import yfinance\n",
    "import warnings\n",
    "warnings.filterwarnings('ignore')"
   ]
  },
  {
   "cell_type": "code",
   "execution_count": 3,
   "id": "73117b5e",
   "metadata": {},
   "outputs": [
    {
     "name": "stdout",
     "output_type": "stream",
     "text": [
      "Author: Flavio F Ribeiro\n",
      "\n",
      "pandas           : 1.4.4\n",
      "matplotlib       : 3.5.2\n",
      "sqlite3          : 2.6.0\n",
      "pandas_datareader: 0.10.0\n",
      "numpy            : 1.21.5\n",
      "yfinance         : 0.2.11\n",
      "\n"
     ]
    }
   ],
   "source": [
    "# Packages versions used in this project\n",
    "%reload_ext watermark\n",
    "%watermark -a \"Flavio F Ribeiro\" --iversions"
   ]
  },
  {
   "cell_type": "code",
   "execution_count": null,
   "id": "13ae20fe",
   "metadata": {},
   "outputs": [],
   "source": [
    "#Create the variable for the company stock data"
   ]
  },
  {
   "cell_type": "code",
   "execution_count": 4,
   "id": "41cbc48d",
   "metadata": {},
   "outputs": [],
   "source": [
    "AZN = \"AZN\""
   ]
  },
  {
   "cell_type": "code",
   "execution_count": 7,
   "id": "fc1cdacc",
   "metadata": {},
   "outputs": [
    {
     "name": "stdout",
     "output_type": "stream",
     "text": [
      "[*********************100%***********************]  1 of 1 completed\n"
     ]
    }
   ],
   "source": [
    "AZN = yfinance.download(AZN)"
   ]
  },
  {
   "cell_type": "markdown",
   "id": "bce3a352",
   "metadata": {},
   "source": [
    "## Exploratorion and Data Integrity Check"
   ]
  },
  {
   "cell_type": "code",
   "execution_count": null,
   "id": "b80d40bc",
   "metadata": {},
   "outputs": [],
   "source": [
    "AZN.shape"
   ]
  },
  {
   "cell_type": "code",
   "execution_count": null,
   "id": "c0fb2556",
   "metadata": {},
   "outputs": [],
   "source": [
    "AZN.head()"
   ]
  },
  {
   "cell_type": "code",
   "execution_count": null,
   "id": "53d9e75e",
   "metadata": {},
   "outputs": [],
   "source": [
    "AZN.describe()"
   ]
  },
  {
   "cell_type": "code",
   "execution_count": null,
   "id": "e6a0c511",
   "metadata": {},
   "outputs": [],
   "source": [
    "AZN.info()"
   ]
  },
  {
   "cell_type": "markdown",
   "id": "3e885f7b",
   "metadata": {},
   "source": [
    "## Using SQL"
   ]
  },
  {
   "cell_type": "code",
   "execution_count": 8,
   "id": "a3f11b0f",
   "metadata": {},
   "outputs": [],
   "source": [
    "conn = sqlite3.connect(\"StockPrices/AZN.db\")\n",
    "c = conn.cursor()"
   ]
  },
  {
   "cell_type": "code",
   "execution_count": 9,
   "id": "d6454cb4",
   "metadata": {},
   "outputs": [
    {
     "data": {
      "text/plain": [
       "7495"
      ]
     },
     "execution_count": 9,
     "metadata": {},
     "output_type": "execute_result"
    }
   ],
   "source": [
    "AZN.to_sql(\"AZN\", conn, if_exists = 'replace')"
   ]
  },
  {
   "cell_type": "code",
   "execution_count": 16,
   "id": "22be5673",
   "metadata": {},
   "outputs": [],
   "source": [
    "# SQL query to DataFrame\n",
    "dfc = pd.read_sql_query(\"\"\" SELECT * FROM AZN WHERE Date >= \"2020-01-01\" \"\"\", conn)"
   ]
  },
  {
   "cell_type": "code",
   "execution_count": 17,
   "id": "736dc927",
   "metadata": {},
   "outputs": [
    {
     "data": {
      "text/html": [
       "<div>\n",
       "<style scoped>\n",
       "    .dataframe tbody tr th:only-of-type {\n",
       "        vertical-align: middle;\n",
       "    }\n",
       "\n",
       "    .dataframe tbody tr th {\n",
       "        vertical-align: top;\n",
       "    }\n",
       "\n",
       "    .dataframe thead th {\n",
       "        text-align: right;\n",
       "    }\n",
       "</style>\n",
       "<table border=\"1\" class=\"dataframe\">\n",
       "  <thead>\n",
       "    <tr style=\"text-align: right;\">\n",
       "      <th></th>\n",
       "      <th>Date</th>\n",
       "      <th>Open</th>\n",
       "      <th>High</th>\n",
       "      <th>Low</th>\n",
       "      <th>Close</th>\n",
       "      <th>Adj Close</th>\n",
       "      <th>Volume</th>\n",
       "    </tr>\n",
       "  </thead>\n",
       "  <tbody>\n",
       "    <tr>\n",
       "      <th>0</th>\n",
       "      <td>2020-01-02 00:00:00</td>\n",
       "      <td>50.299999</td>\n",
       "      <td>50.490002</td>\n",
       "      <td>50.130001</td>\n",
       "      <td>50.389999</td>\n",
       "      <td>46.576225</td>\n",
       "      <td>3587300</td>\n",
       "    </tr>\n",
       "    <tr>\n",
       "      <th>1</th>\n",
       "      <td>2020-01-03 00:00:00</td>\n",
       "      <td>49.880001</td>\n",
       "      <td>50.380001</td>\n",
       "      <td>49.830002</td>\n",
       "      <td>50.090000</td>\n",
       "      <td>46.298927</td>\n",
       "      <td>1208700</td>\n",
       "    </tr>\n",
       "    <tr>\n",
       "      <th>2</th>\n",
       "      <td>2020-01-06 00:00:00</td>\n",
       "      <td>50.040001</td>\n",
       "      <td>50.220001</td>\n",
       "      <td>49.740002</td>\n",
       "      <td>49.880001</td>\n",
       "      <td>46.104820</td>\n",
       "      <td>1992300</td>\n",
       "    </tr>\n",
       "    <tr>\n",
       "      <th>3</th>\n",
       "      <td>2020-01-07 00:00:00</td>\n",
       "      <td>50.139999</td>\n",
       "      <td>50.299999</td>\n",
       "      <td>49.869999</td>\n",
       "      <td>50.070000</td>\n",
       "      <td>46.280434</td>\n",
       "      <td>1871900</td>\n",
       "    </tr>\n",
       "    <tr>\n",
       "      <th>4</th>\n",
       "      <td>2020-01-08 00:00:00</td>\n",
       "      <td>49.869999</td>\n",
       "      <td>50.169998</td>\n",
       "      <td>49.750000</td>\n",
       "      <td>49.950001</td>\n",
       "      <td>46.169521</td>\n",
       "      <td>1869000</td>\n",
       "    </tr>\n",
       "    <tr>\n",
       "      <th>...</th>\n",
       "      <td>...</td>\n",
       "      <td>...</td>\n",
       "      <td>...</td>\n",
       "      <td>...</td>\n",
       "      <td>...</td>\n",
       "      <td>...</td>\n",
       "      <td>...</td>\n",
       "    </tr>\n",
       "    <tr>\n",
       "      <th>781</th>\n",
       "      <td>2023-02-08 00:00:00</td>\n",
       "      <td>65.269997</td>\n",
       "      <td>65.279999</td>\n",
       "      <td>64.199997</td>\n",
       "      <td>64.360001</td>\n",
       "      <td>64.360001</td>\n",
       "      <td>5036800</td>\n",
       "    </tr>\n",
       "    <tr>\n",
       "      <th>782</th>\n",
       "      <td>2023-02-09 00:00:00</td>\n",
       "      <td>68.309998</td>\n",
       "      <td>68.589996</td>\n",
       "      <td>67.279999</td>\n",
       "      <td>67.419998</td>\n",
       "      <td>67.419998</td>\n",
       "      <td>8368000</td>\n",
       "    </tr>\n",
       "    <tr>\n",
       "      <th>783</th>\n",
       "      <td>2023-02-10 00:00:00</td>\n",
       "      <td>68.610001</td>\n",
       "      <td>69.000000</td>\n",
       "      <td>68.209999</td>\n",
       "      <td>68.879997</td>\n",
       "      <td>68.879997</td>\n",
       "      <td>5918200</td>\n",
       "    </tr>\n",
       "    <tr>\n",
       "      <th>784</th>\n",
       "      <td>2023-02-13 00:00:00</td>\n",
       "      <td>68.529999</td>\n",
       "      <td>69.769997</td>\n",
       "      <td>68.500000</td>\n",
       "      <td>69.709999</td>\n",
       "      <td>69.709999</td>\n",
       "      <td>5003600</td>\n",
       "    </tr>\n",
       "    <tr>\n",
       "      <th>785</th>\n",
       "      <td>2023-02-14 00:00:00</td>\n",
       "      <td>68.529999</td>\n",
       "      <td>70.000000</td>\n",
       "      <td>69.794998</td>\n",
       "      <td>69.919998</td>\n",
       "      <td>69.919998</td>\n",
       "      <td>581327</td>\n",
       "    </tr>\n",
       "  </tbody>\n",
       "</table>\n",
       "<p>786 rows × 7 columns</p>\n",
       "</div>"
      ],
      "text/plain": [
       "                    Date       Open       High        Low      Close  \\\n",
       "0    2020-01-02 00:00:00  50.299999  50.490002  50.130001  50.389999   \n",
       "1    2020-01-03 00:00:00  49.880001  50.380001  49.830002  50.090000   \n",
       "2    2020-01-06 00:00:00  50.040001  50.220001  49.740002  49.880001   \n",
       "3    2020-01-07 00:00:00  50.139999  50.299999  49.869999  50.070000   \n",
       "4    2020-01-08 00:00:00  49.869999  50.169998  49.750000  49.950001   \n",
       "..                   ...        ...        ...        ...        ...   \n",
       "781  2023-02-08 00:00:00  65.269997  65.279999  64.199997  64.360001   \n",
       "782  2023-02-09 00:00:00  68.309998  68.589996  67.279999  67.419998   \n",
       "783  2023-02-10 00:00:00  68.610001  69.000000  68.209999  68.879997   \n",
       "784  2023-02-13 00:00:00  68.529999  69.769997  68.500000  69.709999   \n",
       "785  2023-02-14 00:00:00  68.529999  70.000000  69.794998  69.919998   \n",
       "\n",
       "     Adj Close   Volume  \n",
       "0    46.576225  3587300  \n",
       "1    46.298927  1208700  \n",
       "2    46.104820  1992300  \n",
       "3    46.280434  1871900  \n",
       "4    46.169521  1869000  \n",
       "..         ...      ...  \n",
       "781  64.360001  5036800  \n",
       "782  67.419998  8368000  \n",
       "783  68.879997  5918200  \n",
       "784  69.709999  5003600  \n",
       "785  69.919998   581327  \n",
       "\n",
       "[786 rows x 7 columns]"
      ]
     },
     "execution_count": 17,
     "metadata": {},
     "output_type": "execute_result"
    }
   ],
   "source": [
    "dfc"
   ]
  },
  {
   "cell_type": "code",
   "execution_count": 22,
   "id": "03805994",
   "metadata": {},
   "outputs": [],
   "source": [
    "#Saves as .xls in case we want to whole period\n",
    "dfc.to_excel(\"StockPrices/AZNbth2020.xls\")"
   ]
  },
  {
   "cell_type": "code",
   "execution_count": 24,
   "id": "2fa49c66",
   "metadata": {},
   "outputs": [],
   "source": [
    "#loads in disc\n",
    "dfc = pd.read_excel(\"StockPrices/AZNbth2020.xls\")"
   ]
  },
  {
   "cell_type": "code",
   "execution_count": 25,
   "id": "792d6493",
   "metadata": {},
   "outputs": [
    {
     "data": {
      "text/html": [
       "<div>\n",
       "<style scoped>\n",
       "    .dataframe tbody tr th:only-of-type {\n",
       "        vertical-align: middle;\n",
       "    }\n",
       "\n",
       "    .dataframe tbody tr th {\n",
       "        vertical-align: top;\n",
       "    }\n",
       "\n",
       "    .dataframe thead th {\n",
       "        text-align: right;\n",
       "    }\n",
       "</style>\n",
       "<table border=\"1\" class=\"dataframe\">\n",
       "  <thead>\n",
       "    <tr style=\"text-align: right;\">\n",
       "      <th></th>\n",
       "      <th>Unnamed: 0</th>\n",
       "      <th>Date</th>\n",
       "      <th>Open</th>\n",
       "      <th>High</th>\n",
       "      <th>Low</th>\n",
       "      <th>Close</th>\n",
       "      <th>Adj Close</th>\n",
       "      <th>Volume</th>\n",
       "    </tr>\n",
       "  </thead>\n",
       "  <tbody>\n",
       "    <tr>\n",
       "      <th>0</th>\n",
       "      <td>0</td>\n",
       "      <td>2020-01-02 00:00:00</td>\n",
       "      <td>50.299999</td>\n",
       "      <td>50.490002</td>\n",
       "      <td>50.130001</td>\n",
       "      <td>50.389999</td>\n",
       "      <td>46.576225</td>\n",
       "      <td>3587300</td>\n",
       "    </tr>\n",
       "    <tr>\n",
       "      <th>1</th>\n",
       "      <td>1</td>\n",
       "      <td>2020-01-03 00:00:00</td>\n",
       "      <td>49.880001</td>\n",
       "      <td>50.380001</td>\n",
       "      <td>49.830002</td>\n",
       "      <td>50.090000</td>\n",
       "      <td>46.298927</td>\n",
       "      <td>1208700</td>\n",
       "    </tr>\n",
       "    <tr>\n",
       "      <th>2</th>\n",
       "      <td>2</td>\n",
       "      <td>2020-01-06 00:00:00</td>\n",
       "      <td>50.040001</td>\n",
       "      <td>50.220001</td>\n",
       "      <td>49.740002</td>\n",
       "      <td>49.880001</td>\n",
       "      <td>46.104820</td>\n",
       "      <td>1992300</td>\n",
       "    </tr>\n",
       "    <tr>\n",
       "      <th>3</th>\n",
       "      <td>3</td>\n",
       "      <td>2020-01-07 00:00:00</td>\n",
       "      <td>50.139999</td>\n",
       "      <td>50.299999</td>\n",
       "      <td>49.869999</td>\n",
       "      <td>50.070000</td>\n",
       "      <td>46.280434</td>\n",
       "      <td>1871900</td>\n",
       "    </tr>\n",
       "    <tr>\n",
       "      <th>4</th>\n",
       "      <td>4</td>\n",
       "      <td>2020-01-08 00:00:00</td>\n",
       "      <td>49.869999</td>\n",
       "      <td>50.169998</td>\n",
       "      <td>49.750000</td>\n",
       "      <td>49.950001</td>\n",
       "      <td>46.169521</td>\n",
       "      <td>1869000</td>\n",
       "    </tr>\n",
       "  </tbody>\n",
       "</table>\n",
       "</div>"
      ],
      "text/plain": [
       "   Unnamed: 0                 Date       Open       High        Low  \\\n",
       "0           0  2020-01-02 00:00:00  50.299999  50.490002  50.130001   \n",
       "1           1  2020-01-03 00:00:00  49.880001  50.380001  49.830002   \n",
       "2           2  2020-01-06 00:00:00  50.040001  50.220001  49.740002   \n",
       "3           3  2020-01-07 00:00:00  50.139999  50.299999  49.869999   \n",
       "4           4  2020-01-08 00:00:00  49.869999  50.169998  49.750000   \n",
       "\n",
       "       Close  Adj Close   Volume  \n",
       "0  50.389999  46.576225  3587300  \n",
       "1  50.090000  46.298927  1208700  \n",
       "2  49.880001  46.104820  1992300  \n",
       "3  50.070000  46.280434  1871900  \n",
       "4  49.950001  46.169521  1869000  "
      ]
     },
     "execution_count": 25,
     "metadata": {},
     "output_type": "execute_result"
    }
   ],
   "source": [
    "dfc.head()"
   ]
  },
  {
   "cell_type": "code",
   "execution_count": 26,
   "id": "d0141c4d",
   "metadata": {},
   "outputs": [
    {
     "data": {
      "text/plain": [
       "0      2020-01-02 00:00:00\n",
       "1      2020-01-03 00:00:00\n",
       "2      2020-01-06 00:00:00\n",
       "3      2020-01-07 00:00:00\n",
       "4      2020-01-08 00:00:00\n",
       "              ...         \n",
       "781    2023-02-08 00:00:00\n",
       "782    2023-02-09 00:00:00\n",
       "783    2023-02-10 00:00:00\n",
       "784    2023-02-13 00:00:00\n",
       "785    2023-02-14 00:00:00\n",
       "Name: Date, Length: 786, dtype: object"
      ]
     },
     "execution_count": 26,
     "metadata": {},
     "output_type": "execute_result"
    }
   ],
   "source": [
    "#Checking 'Date' format.\n",
    "dfc['Date']"
   ]
  },
  {
   "cell_type": "code",
   "execution_count": 34,
   "id": "0a176905",
   "metadata": {},
   "outputs": [],
   "source": [
    "#Transforming the Date to datetime format\n",
    "dfc['Date'] = pd.to_datetime(dfc['Date'])"
   ]
  },
  {
   "cell_type": "code",
   "execution_count": 31,
   "id": "491dc8f0",
   "metadata": {},
   "outputs": [
    {
     "data": {
      "text/plain": [
       "0     2020-01-02\n",
       "1     2020-01-03\n",
       "2     2020-01-06\n",
       "3     2020-01-07\n",
       "4     2020-01-08\n",
       "         ...    \n",
       "781   2023-02-08\n",
       "782   2023-02-09\n",
       "783   2023-02-10\n",
       "784   2023-02-13\n",
       "785   2023-02-14\n",
       "Name: Date, Length: 786, dtype: datetime64[ns]"
      ]
     },
     "execution_count": 31,
     "metadata": {},
     "output_type": "execute_result"
    }
   ],
   "source": [
    "dfc['Date']"
   ]
  },
  {
   "cell_type": "code",
   "execution_count": 32,
   "id": "6f35bcd4",
   "metadata": {},
   "outputs": [
    {
     "data": {
      "text/plain": [
       "0      50.389999\n",
       "1      50.090000\n",
       "2      49.880001\n",
       "3      50.070000\n",
       "4      49.950001\n",
       "         ...    \n",
       "781    64.360001\n",
       "782    67.419998\n",
       "783    68.879997\n",
       "784    69.709999\n",
       "785    69.919998\n",
       "Name: Close, Length: 786, dtype: float64"
      ]
     },
     "execution_count": 32,
     "metadata": {},
     "output_type": "execute_result"
    }
   ],
   "source": [
    "#Checking 'Close' format\n",
    "dfc['Close']"
   ]
  },
  {
   "cell_type": "code",
   "execution_count": 36,
   "id": "7307c61b",
   "metadata": {},
   "outputs": [
    {
     "data": {
      "image/png": "[encoded data removed]",
      "text/plain": [
       "<Figure size 1200x600 with 1 Axes>"
      ]
     },
     "metadata": {},
     "output_type": "display_data"
    }
   ],
   "source": [
    "#Data Visualization\n",
    "\n",
    "# Data in axis\n",
    "x = dfc['Date']\n",
    "y = dfc['Close']\n",
    "\n",
    "# Graph's size (dpi)\n",
    "plt.figure(figsize = (12,6), dpi = 100)\n",
    "\n",
    "# Plot\n",
    "plt.plot(x, y, label = 'AZN')\n",
    "\n",
    "# Title\n",
    "plt.title('Cotação das Ações da AstraZeneca desde 2020', \n",
    "          fontdict = {'fontname': 'Comic Sans MS', 'fontsize': 16})\n",
    "\n",
    "# Label\n",
    "plt.xlabel('Tempo')\n",
    "plt.ylabel('Preço da Ação (USD)')\n",
    "\n",
    "# legend = on\n",
    "plt.legend()\n",
    "\n",
    "#Grid = on\n",
    "plt.grid()\n",
    "\n",
    "# Saves image n high resolution\n",
    "plt.savefig('imagens/AZNSockPricefrom2020.png', dpi = 300)\n",
    "\n",
    "# Plot\n",
    "plt.show()"
   ]
  },
  {
   "cell_type": "code",
   "execution_count": null,
   "id": "a0d4dfeb",
   "metadata": {},
   "outputs": [],
   "source": []
  }
 ],
 "metadata": {
  "kernelspec": {
   "display_name": "Python 3 (ipykernel)",
   "language": "python",
   "name": "python3"
  },
  "language_info": {
   "codemirror_mode": {
    "name": "ipython",
    "version": 3
   },
   "file_extension": ".py",
   "mimetype": "text/x-python",
   "name": "python",
   "nbconvert_exporter": "python",
   "pygments_lexer": "ipython3",
   "version": "3.9.13"
  }
 },
 "nbformat": 4,
 "nbformat_minor": 5
}
